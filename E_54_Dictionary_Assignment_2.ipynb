{
  "nbformat": 4,
  "nbformat_minor": 0,
  "metadata": {
    "colab": {
      "name": "E_54 Dictionary Assignment 2.ipynb",
      "provenance": [],
      "collapsed_sections": [],
      "toc_visible": true,
      "authorship_tag": "ABX9TyOM9lL1hIs/3fJT8BbpzA9h",
      "include_colab_link": true
    },
    "kernelspec": {
      "name": "python3",
      "display_name": "Python 3"
    },
    "language_info": {
      "name": "python"
    }
  },
  "cells": [
    {
      "cell_type": "markdown",
      "metadata": {
        "id": "view-in-github",
        "colab_type": "text"
      },
      "source": [
        "<a href=\"https://colab.research.google.com/github/Shubhankar10/Verbal-Dictionary/blob/main/E_54_Dictionary_Assignment_2.ipynb\" target=\"_parent\"><img src=\"https://colab.research.google.com/assets/colab-badge.svg\" alt=\"Open In Colab\"/></a>"
      ]
    },
    {
      "cell_type": "markdown",
      "source": [
        "**Verbal Dictionary using Python**\n",
        "\n",
        "\n"
      ],
      "metadata": {
        "id": "LFti6Hxb-RI0"
      }
    },
    {
      "cell_type": "markdown",
      "source": [
        "A Python project which returns the Meaining,translation, antonym & synonym of a word by choice of the user.It can also return the meaning of the Text fetched instantly from wikipedia.\n",
        "It returns the result in Text as well as Audio format.\n"
      ],
      "metadata": {
        "id": "eWHRwQN6-bFA"
      }
    },
    {
      "cell_type": "markdown",
      "source": [
        "This project is developed by ***Shubhankar Tiwary*** (E54).\n",
        "\n",
        "---\n",
        "For the 2nd Assignment of the subject Python with Django(3rd Sem).\n",
        "\n",
        "\n",
        "\n"
      ],
      "metadata": {
        "id": "8UOn_MgH_uNJ"
      }
    },
    {
      "cell_type": "markdown",
      "source": [
        "\n",
        "\n",
        "> **CODE:**\n",
        "\n"
      ],
      "metadata": {
        "id": "AIA2ZY42Dsw9"
      }
    },
    {
      "cell_type": "markdown",
      "source": [
        "Installing the required liberaries for this Project.\n",
        "\n",
        "\n"
      ],
      "metadata": {
        "id": "njDLKxgz-AKD"
      }
    },
    {
      "cell_type": "code",
      "source": [
        "!pip install gtts\n",
        "!pip install wordhoard\n",
        "!pip install wikipedia\n",
        "!pip install translate"
      ],
      "metadata": {
        "id": "-1AuC84V89Ch"
      },
      "execution_count": null,
      "outputs": []
    },
    {
      "cell_type": "markdown",
      "source": [
        "Import the liberaries and modules required for the project."
      ],
      "metadata": {
        "id": "pW3s-pXxBCQk"
      }
    },
    {
      "cell_type": "code",
      "source": [
        "#Import the installed liberaries\n",
        "from gtts import gTTS\n",
        "from wordhoard import Definitions\n",
        "from wordhoard import Synonyms\n",
        "from wordhoard import Antonyms\n",
        "from translate import Translator\n",
        "\n",
        "import wikipedia\n",
        "import os\n"
      ],
      "metadata": {
        "id": "BsN4SUMHA_KJ"
      },
      "execution_count": null,
      "outputs": []
    },
    {
      "cell_type": "markdown",
      "source": [
        "Ask the user for his choice to perform a task."
      ],
      "metadata": {
        "id": "ePjCfUtFAVKM"
      }
    },
    {
      "cell_type": "code",
      "source": [
        "#Ask user for the choice of their task.\n",
        "print(\"Press:\")\n",
        "print(\"1 to Search on Wikip\")\n",
        "print(\"2 to Find Meaning of a Word\")\n",
        "print(\"3 to Translate a Word\")\n",
        "print(\"4 to Find Antonym of a Word\")\n",
        "print(\"5 to Find Synonym of a Word\")\n",
        "ch=int(input(\"\\nChoice:\"))\n"
      ],
      "metadata": {
        "id": "wGpQ2pom8mbg",
        "colab": {
          "base_uri": "https://localhost:8080/"
        },
        "outputId": "47fe5a47-e561-43b7-a34c-ccc22bfaf333"
      },
      "execution_count": null,
      "outputs": [
        {
          "name": "stdout",
          "output_type": "stream",
          "text": [
            "Press:\n",
            "1 to Search on Wikip\n",
            "2 to Find Meaning of a Word\n",
            "3 to Translate a Word\n",
            "4 to Find Antonym of a Word\n",
            "5 to Find Synonym of a Word\n",
            "\n",
            "Choice:3\n"
          ]
        }
      ]
    },
    {
      "cell_type": "markdown",
      "source": [
        "Based of the choice from previous piece of code, ask the user for the text/word for the task and return the desired results.  "
      ],
      "metadata": {
        "id": "VmxsVPRnBOZs"
      }
    },
    {
      "cell_type": "code",
      "source": [
        "#Ask the user for word to perform the task\n",
        "word=input(\"Enter Word: \")\n",
        "\n",
        "if ch==1:\n",
        "    #TO perform a search on WIKIPEDIA\n",
        "    #wikiS =wikipedia.search(word, results = 5)\n",
        "    wiki=wikipedia.summary(word, sentences=3)\n",
        "    print(wiki)\n",
        "    final=wiki\n",
        "    \n",
        "elif ch==2:\n",
        "    # TO retrun Meaning of a word \n",
        "    definition = Definitions(word)\n",
        "    meaning = definition.find_definitions()\n",
        "    final=\"Meanings for \"+word+\" are: \"\n",
        "    print(final)\n",
        "    for i in meaning:\n",
        "        print(\"*\",i)\n",
        "        final=final+i\n",
        "\n",
        "elif ch==3:\n",
        "    #TO Translate a word in hindi\n",
        "    translator= Translator(to_lang=\"Hindi\")\n",
        "    translation = translator.translate(word)\n",
        "    final=\"Translation of \"+word+\" in Hindi is:  \"+translation\n",
        "    print(final)\n",
        "\n",
        "\n",
        "elif ch==4:\n",
        "    #TO retrun Antonym of the word\n",
        "    #count variable is used to store only the first 5 antonym in the audio file\n",
        "    count=0\n",
        "    \n",
        "    antonym = Antonyms(word)\n",
        "    antonym_results = antonym.find_antonyms()\n",
        "    final=\"Antonyms for \"+word+\" are: \"\n",
        "    print(final)\n",
        "    \n",
        "    for i in antonym_results:\n",
        "        print(i)\n",
        "        if(count<4):\n",
        "            final=final+i\n",
        "            count+=1\n",
        "        \n",
        "elif ch==5:\n",
        "    #TO return Synonym of the word\n",
        "    #count variable is used to store only the first 5 synonyms in the audio file\n",
        "    count=0\n",
        "    \n",
        "    synonym = Synonyms(word)\n",
        "    synonym_results = synonym.find_synonyms()\n",
        "    final=\"Synonym for \"+word+\" are: \"\n",
        "    print(final)\n",
        "    \n",
        "    for i in synonym_results:\n",
        "        print(i)\n",
        "        if(count<4):\n",
        "            final=final+i\n",
        "            count+=1\n",
        "#final contains the final output form any of the called funtions for the audio output."
      ],
      "metadata": {
        "id": "pmVXPQH29NPu"
      },
      "execution_count": null,
      "outputs": []
    },
    {
      "cell_type": "markdown",
      "source": [
        "Code To provide an audio output for the previous task."
      ],
      "metadata": {
        "id": "bLB1LwgRCZBL"
      }
    },
    {
      "cell_type": "code",
      "source": [
        "#TO Speak\n",
        "        \n",
        "speak=str(final)\n",
        "myobj = gTTS(text=speak, slow=False)\n",
        "\n",
        "myobj.save(\"audio.mp3\")\n",
        "\n",
        "os.system(\"audio.mp3\")\n"
      ],
      "metadata": {
        "id": "ke8WYGRPCSuA"
      },
      "execution_count": null,
      "outputs": []
    }
  ]
}